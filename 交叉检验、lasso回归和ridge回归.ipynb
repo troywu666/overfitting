{
 "cells": [
  {
   "cell_type": "markdown",
   "metadata": {},
   "source": [
    "## 交叉检验"
   ]
  },
  {
   "cell_type": "code",
   "execution_count": 5,
   "metadata": {
    "ExecuteTime": {
     "end_time": "2019-03-08T11:44:37.594427Z",
     "start_time": "2019-03-08T11:44:37.472608Z"
    },
    "scrolled": true
   },
   "outputs": [
    {
     "name": "stdout",
     "output_type": "stream",
     "text": [
      "[1. 1. 1.]\n",
      "[0.92307692 0.92307692 1.        ]\n",
      "[0.83333333 0.85714286 1.        ]\n",
      "[1. 1. 1.]\n",
      "[1. 1. 1.]\n",
      "[1.         0.94736842 0.85714286]\n",
      "[1.         0.90909091 0.85714286]\n",
      "[0.8        0.93333333 1.        ]\n",
      "[1. 1. 1.]\n",
      "[1.         0.85714286 0.75      ]\n"
     ]
    },
    {
     "name": "stderr",
     "output_type": "stream",
     "text": [
      "E:\\ProgramData\\Anaconda3\\envs\\tensorflow35\\lib\\site-packages\\sklearn\\linear_model\\logistic.py:433: FutureWarning: Default solver will be changed to 'lbfgs' in 0.22. Specify a solver to silence this warning.\n",
      "  FutureWarning)\n",
      "E:\\ProgramData\\Anaconda3\\envs\\tensorflow35\\lib\\site-packages\\sklearn\\linear_model\\logistic.py:460: FutureWarning: Default multi_class will be changed to 'auto' in 0.22. Specify the multi_class option to silence this warning.\n",
      "  \"this warning.\", FutureWarning)\n",
      "E:\\ProgramData\\Anaconda3\\envs\\tensorflow35\\lib\\site-packages\\sklearn\\linear_model\\logistic.py:433: FutureWarning: Default solver will be changed to 'lbfgs' in 0.22. Specify a solver to silence this warning.\n",
      "  FutureWarning)\n",
      "E:\\ProgramData\\Anaconda3\\envs\\tensorflow35\\lib\\site-packages\\sklearn\\linear_model\\logistic.py:460: FutureWarning: Default multi_class will be changed to 'auto' in 0.22. Specify the multi_class option to silence this warning.\n",
      "  \"this warning.\", FutureWarning)\n",
      "E:\\ProgramData\\Anaconda3\\envs\\tensorflow35\\lib\\site-packages\\sklearn\\linear_model\\logistic.py:433: FutureWarning: Default solver will be changed to 'lbfgs' in 0.22. Specify a solver to silence this warning.\n",
      "  FutureWarning)\n",
      "E:\\ProgramData\\Anaconda3\\envs\\tensorflow35\\lib\\site-packages\\sklearn\\linear_model\\logistic.py:460: FutureWarning: Default multi_class will be changed to 'auto' in 0.22. Specify the multi_class option to silence this warning.\n",
      "  \"this warning.\", FutureWarning)\n",
      "E:\\ProgramData\\Anaconda3\\envs\\tensorflow35\\lib\\site-packages\\sklearn\\linear_model\\logistic.py:433: FutureWarning: Default solver will be changed to 'lbfgs' in 0.22. Specify a solver to silence this warning.\n",
      "  FutureWarning)\n",
      "E:\\ProgramData\\Anaconda3\\envs\\tensorflow35\\lib\\site-packages\\sklearn\\linear_model\\logistic.py:460: FutureWarning: Default multi_class will be changed to 'auto' in 0.22. Specify the multi_class option to silence this warning.\n",
      "  \"this warning.\", FutureWarning)\n",
      "E:\\ProgramData\\Anaconda3\\envs\\tensorflow35\\lib\\site-packages\\sklearn\\linear_model\\logistic.py:433: FutureWarning: Default solver will be changed to 'lbfgs' in 0.22. Specify a solver to silence this warning.\n",
      "  FutureWarning)\n",
      "E:\\ProgramData\\Anaconda3\\envs\\tensorflow35\\lib\\site-packages\\sklearn\\linear_model\\logistic.py:460: FutureWarning: Default multi_class will be changed to 'auto' in 0.22. Specify the multi_class option to silence this warning.\n",
      "  \"this warning.\", FutureWarning)\n",
      "E:\\ProgramData\\Anaconda3\\envs\\tensorflow35\\lib\\site-packages\\sklearn\\linear_model\\logistic.py:433: FutureWarning: Default solver will be changed to 'lbfgs' in 0.22. Specify a solver to silence this warning.\n",
      "  FutureWarning)\n",
      "E:\\ProgramData\\Anaconda3\\envs\\tensorflow35\\lib\\site-packages\\sklearn\\linear_model\\logistic.py:460: FutureWarning: Default multi_class will be changed to 'auto' in 0.22. Specify the multi_class option to silence this warning.\n",
      "  \"this warning.\", FutureWarning)\n",
      "E:\\ProgramData\\Anaconda3\\envs\\tensorflow35\\lib\\site-packages\\sklearn\\linear_model\\logistic.py:433: FutureWarning: Default solver will be changed to 'lbfgs' in 0.22. Specify a solver to silence this warning.\n",
      "  FutureWarning)\n",
      "E:\\ProgramData\\Anaconda3\\envs\\tensorflow35\\lib\\site-packages\\sklearn\\linear_model\\logistic.py:460: FutureWarning: Default multi_class will be changed to 'auto' in 0.22. Specify the multi_class option to silence this warning.\n",
      "  \"this warning.\", FutureWarning)\n",
      "E:\\ProgramData\\Anaconda3\\envs\\tensorflow35\\lib\\site-packages\\sklearn\\linear_model\\logistic.py:433: FutureWarning: Default solver will be changed to 'lbfgs' in 0.22. Specify a solver to silence this warning.\n",
      "  FutureWarning)\n",
      "E:\\ProgramData\\Anaconda3\\envs\\tensorflow35\\lib\\site-packages\\sklearn\\linear_model\\logistic.py:460: FutureWarning: Default multi_class will be changed to 'auto' in 0.22. Specify the multi_class option to silence this warning.\n",
      "  \"this warning.\", FutureWarning)\n",
      "E:\\ProgramData\\Anaconda3\\envs\\tensorflow35\\lib\\site-packages\\sklearn\\linear_model\\logistic.py:433: FutureWarning: Default solver will be changed to 'lbfgs' in 0.22. Specify a solver to silence this warning.\n",
      "  FutureWarning)\n",
      "E:\\ProgramData\\Anaconda3\\envs\\tensorflow35\\lib\\site-packages\\sklearn\\linear_model\\logistic.py:460: FutureWarning: Default multi_class will be changed to 'auto' in 0.22. Specify the multi_class option to silence this warning.\n",
      "  \"this warning.\", FutureWarning)\n",
      "E:\\ProgramData\\Anaconda3\\envs\\tensorflow35\\lib\\site-packages\\sklearn\\linear_model\\logistic.py:433: FutureWarning: Default solver will be changed to 'lbfgs' in 0.22. Specify a solver to silence this warning.\n",
      "  FutureWarning)\n",
      "E:\\ProgramData\\Anaconda3\\envs\\tensorflow35\\lib\\site-packages\\sklearn\\linear_model\\logistic.py:460: FutureWarning: Default multi_class will be changed to 'auto' in 0.22. Specify the multi_class option to silence this warning.\n",
      "  \"this warning.\", FutureWarning)\n"
     ]
    }
   ],
   "source": [
    "from sklearn import datasets\n",
    "from sklearn.linear_model import LogisticRegression\n",
    "from sklearn.model_selection import KFold\n",
    "from sklearn.metrics import f1_score,log_loss,classification_report\n",
    "import numpy as np\n",
    "import pandas as pd\n",
    "import matplotlib.pyplot as plt\n",
    "%matplotlib inline\n",
    "\n",
    "wine_data=datasets.load_wine()\n",
    "data=wine_data.data\n",
    "output=wine_data.target\n",
    "kf=KFold(10,shuffle=True)\n",
    "lr=LogisticRegression()\n",
    "##     kf.split()\n",
    "for train_index,test_index in kf.split(data,output):\n",
    "    lr.fit(data[train_index],output[train_index])\n",
    "    output_pre=lr.predict(data[test_index])\n",
    "    print(f1_score(output[test_index],output_pre,average=None))"
   ]
  },
  {
   "cell_type": "markdown",
   "metadata": {},
   "source": [
    "average : string, [None, ‘binary’ (default), ‘micro’, ‘macro’, ‘weighted’, ‘samples’]，This parameter is required for multiclass/multilabel targets.\n",
    "\n",
    "①None：返回每一类各自的f1_score，得到一个array。\n",
    "\n",
    "②'binary':  只对二分类问题有效，返回由pos_label指定的类的f1_score。\n",
    "\n",
    "Only report results for the class specified by pos_label. This is applicable only if targets (y_{true,pred}) are binary.\n",
    "\n",
    "③'micro': 设置average='micro'时，Precision = Recall = F1_score = Accuracy。\n",
    "\n",
    "Note that for “micro”-averaging in a multiclass setting with all labels included will produce equal precision, recall and F_beta.\n",
    "\n",
    "Calculate metrics globally by counting the total true positives, false negatives and false positives.\n",
    "\n",
    "④'macro': 对每一类别的f1_score进行简单算术平均（unweighted mean）, with assumption that all classes are equally important。\n",
    "\n",
    "Calculate metrics for each label, and find their unweighted mean. This does not take label imbalance into account.\n",
    "\n",
    "⑤'weighted': 对每一类别的f1_score进行加权平均，权重为各类别数在y_true中所占比例。\n",
    "\n",
    "Calculate metrics for each label, and find their average, weighted by support (the number of true instances for each label). This alters ‘macro’ to account for label imbalance; it can result in an F-score that is not between precision and recall.\n",
    "\n",
    "⑥'samples':\n",
    "Calculate metrics for each instance, and find their average (only meaningful for multilabel classification where this differs from accuracy_score)."
   ]
  },
  {
   "cell_type": "code",
   "execution_count": 40,
   "metadata": {
    "ExecuteTime": {
     "end_time": "2019-03-07T16:33:21.081447Z",
     "start_time": "2019-03-07T16:33:20.944535Z"
    },
    "scrolled": false
   },
   "outputs": [
    {
     "name": "stdout",
     "output_type": "stream",
     "text": [
      "[1.         0.9375     0.92307692]\n",
      "[0.89655172 0.85714286 0.96969697]\n",
      "[0.96774194 0.97560976 1.        ]\n",
      "[1. 1. 1.]\n"
     ]
    },
    {
     "name": "stderr",
     "output_type": "stream",
     "text": [
      "E:\\ProgramData\\Anaconda3\\envs\\tensorflow35\\lib\\site-packages\\sklearn\\linear_model\\logistic.py:433: FutureWarning: Default solver will be changed to 'lbfgs' in 0.22. Specify a solver to silence this warning.\n",
      "  FutureWarning)\n",
      "E:\\ProgramData\\Anaconda3\\envs\\tensorflow35\\lib\\site-packages\\sklearn\\linear_model\\logistic.py:460: FutureWarning: Default multi_class will be changed to 'auto' in 0.22. Specify the multi_class option to silence this warning.\n",
      "  \"this warning.\", FutureWarning)\n",
      "E:\\ProgramData\\Anaconda3\\envs\\tensorflow35\\lib\\site-packages\\sklearn\\linear_model\\logistic.py:433: FutureWarning: Default solver will be changed to 'lbfgs' in 0.22. Specify a solver to silence this warning.\n",
      "  FutureWarning)\n",
      "E:\\ProgramData\\Anaconda3\\envs\\tensorflow35\\lib\\site-packages\\sklearn\\linear_model\\logistic.py:460: FutureWarning: Default multi_class will be changed to 'auto' in 0.22. Specify the multi_class option to silence this warning.\n",
      "  \"this warning.\", FutureWarning)\n",
      "E:\\ProgramData\\Anaconda3\\envs\\tensorflow35\\lib\\site-packages\\sklearn\\linear_model\\logistic.py:433: FutureWarning: Default solver will be changed to 'lbfgs' in 0.22. Specify a solver to silence this warning.\n",
      "  FutureWarning)\n",
      "E:\\ProgramData\\Anaconda3\\envs\\tensorflow35\\lib\\site-packages\\sklearn\\linear_model\\logistic.py:460: FutureWarning: Default multi_class will be changed to 'auto' in 0.22. Specify the multi_class option to silence this warning.\n",
      "  \"this warning.\", FutureWarning)\n",
      "E:\\ProgramData\\Anaconda3\\envs\\tensorflow35\\lib\\site-packages\\sklearn\\linear_model\\logistic.py:433: FutureWarning: Default solver will be changed to 'lbfgs' in 0.22. Specify a solver to silence this warning.\n",
      "  FutureWarning)\n",
      "E:\\ProgramData\\Anaconda3\\envs\\tensorflow35\\lib\\site-packages\\sklearn\\linear_model\\logistic.py:460: FutureWarning: Default multi_class will be changed to 'auto' in 0.22. Specify the multi_class option to silence this warning.\n",
      "  \"this warning.\", FutureWarning)\n"
     ]
    }
   ],
   "source": [
    "#使用交叉检验\n",
    "from sklearn import datasets\n",
    "from sklearn.model_selection import KFold\n",
    "from sklearn.linear_model import LogisticRegression\n",
    "from sklearn.metrics import f1_score,log_loss,classification_report\n",
    "import numpy as np\n",
    "import pandas as pd\n",
    "import matplotlib.pyplot as plt\n",
    "%matplotlib inline\n",
    "\n",
    "wine_data=datasets.load_wine()\n",
    "df_input =pd.DataFrame(data=wine_data.data,columns=wine_data.feature_names)\n",
    "df_output=pd.DataFrame(data=wine_data.target,columns=['output'])\n",
    "df=df_input.join(df_output,how='outer')\n",
    "\n",
    "kf=KFold(4,shuffle=True)\n",
    "lr=LogisticRegression()\n",
    "\n",
    "for train_index,test_index in kf.split(wine_data.data,wine_data.target):\n",
    "    lr.fit(wine_data.data[train_index],wine_data.target[train_index])\n",
    "    y_pre=lr.predict(wine_data.data[test_index])\n",
    "    y_test=wine_data.target[test_index]\n",
    "    print(f1_score(y_pre,y_test,average=None))"
   ]
  },
  {
   "cell_type": "markdown",
   "metadata": {},
   "source": [
    "## cross_val_score"
   ]
  },
  {
   "cell_type": "markdown",
   "metadata": {},
   "source": [
    "Averaging\n",
    "Macro-averaging\n",
    "\n",
    "宏平均（Macro-averaging）是指所有类别的每一个统计指标值的算数平均值，也就是宏精确率（Macro-Precision），宏召回率（Macro-Recall），宏F值（Macro-F Score），其计算公式如下：\n",
    "\n",
    "\\begin{eqnarray} P_{macro} &=& \\frac{1}{n}\\sum_{i=1}^n P_i \\end{eqnarray}\n",
    "\n",
    "\\begin{equation} R_{macro} = \\frac{1}{n} \\sum_{i=1}^n R_i \\end{equation}\n",
    "\n",
    "\\begin{equation} F_{macro} = \\frac{2 \\times P_{macro} \\times R_{macro}}{P_{macro} + R_{macro}} \\end{equation}\n",
    "\n",
    "Micro-averaging\n",
    "\n",
    "微平均（Micro-averaging）是对数据集中的每一个示例不分类别进行统计建立全局混淆矩阵，然后计算相应的指标。其计算公式如下：\n",
    "\n",
    "\\begin{equation} P_{micro} = \\frac{\\bar{TP}}{\\bar{TP} + \\bar{FP}} = \\frac{\\sum_{i=1}^n {TP}_i}{\\sum_{i=1}^n {TP}_i + \\sum_{i=1}^n {FP}_i} \\end{equation}\n",
    "\n",
    "\\begin{equation} R_{micro} = \\frac{\\bar{TP}}{\\bar{TP} + \\bar{FN}} = \\frac{\\sum_{i=1}^n {TP}_i}{\\sum_{i=1}^n {TP}_i + \\sum_{i=1}^n {FN}_i} \\end{equation}\n",
    "\n",
    "\\begin{equation} F_{micro} = \\frac{2 \\times P_{micro} \\times R_{micro}}{P_{micro} + R_{micro}} \\end{equation}\n",
    "\n",
    "\n",
    "\n",
    "Macro-averaging与Micro-averaging的不同之处在于：Macro-averaging赋予每个类相同的权重，然而Micro-averaging赋予每个样本决策相同的权重。因为从 F_1 值的计算公式可以看出，它忽略了那些被分类器正确判定为负类的那些样本，它的大小主要由被分类器正确判定为正类的那些样本决定的，在微平均评估指标中，样本数多的类别主导着样本数少的类。"
   ]
  },
  {
   "cell_type": "code",
   "execution_count": 22,
   "metadata": {
    "ExecuteTime": {
     "end_time": "2019-03-08T12:45:14.131353Z",
     "start_time": "2019-03-08T12:45:13.809895Z"
    }
   },
   "outputs": [
    {
     "name": "stdout",
     "output_type": "stream",
     "text": [
      "[0.94736842 0.88888889 0.94444444 0.94444444 1.         1.\n",
      " 1.         0.94444444 1.         1.        ]\n",
      "[0.92222222 0.93703704 1.         1.        ]\n"
     ]
    },
    {
     "name": "stderr",
     "output_type": "stream",
     "text": [
      "E:\\ProgramData\\Anaconda3\\envs\\tensorflow35\\lib\\site-packages\\sklearn\\linear_model\\logistic.py:433: FutureWarning: Default solver will be changed to 'lbfgs' in 0.22. Specify a solver to silence this warning.\n",
      "  FutureWarning)\n",
      "E:\\ProgramData\\Anaconda3\\envs\\tensorflow35\\lib\\site-packages\\sklearn\\linear_model\\logistic.py:460: FutureWarning: Default multi_class will be changed to 'auto' in 0.22. Specify the multi_class option to silence this warning.\n",
      "  \"this warning.\", FutureWarning)\n",
      "E:\\ProgramData\\Anaconda3\\envs\\tensorflow35\\lib\\site-packages\\sklearn\\linear_model\\logistic.py:433: FutureWarning: Default solver will be changed to 'lbfgs' in 0.22. Specify a solver to silence this warning.\n",
      "  FutureWarning)\n",
      "E:\\ProgramData\\Anaconda3\\envs\\tensorflow35\\lib\\site-packages\\sklearn\\linear_model\\logistic.py:460: FutureWarning: Default multi_class will be changed to 'auto' in 0.22. Specify the multi_class option to silence this warning.\n",
      "  \"this warning.\", FutureWarning)\n",
      "E:\\ProgramData\\Anaconda3\\envs\\tensorflow35\\lib\\site-packages\\sklearn\\linear_model\\logistic.py:433: FutureWarning: Default solver will be changed to 'lbfgs' in 0.22. Specify a solver to silence this warning.\n",
      "  FutureWarning)\n",
      "E:\\ProgramData\\Anaconda3\\envs\\tensorflow35\\lib\\site-packages\\sklearn\\linear_model\\logistic.py:460: FutureWarning: Default multi_class will be changed to 'auto' in 0.22. Specify the multi_class option to silence this warning.\n",
      "  \"this warning.\", FutureWarning)\n",
      "E:\\ProgramData\\Anaconda3\\envs\\tensorflow35\\lib\\site-packages\\sklearn\\linear_model\\logistic.py:433: FutureWarning: Default solver will be changed to 'lbfgs' in 0.22. Specify a solver to silence this warning.\n",
      "  FutureWarning)\n",
      "E:\\ProgramData\\Anaconda3\\envs\\tensorflow35\\lib\\site-packages\\sklearn\\linear_model\\logistic.py:460: FutureWarning: Default multi_class will be changed to 'auto' in 0.22. Specify the multi_class option to silence this warning.\n",
      "  \"this warning.\", FutureWarning)\n"
     ]
    }
   ],
   "source": [
    "from sklearn.model_selection import cross_val_score\n",
    "from sklearn.linear_model import LogisticRegression\n",
    "from sklearn import svm\n",
    "from sklearn.ensemble import RandomForestClassifier\n",
    "\n",
    "rf_class=RandomForestClassifier(n_estimators=10)\n",
    "lr_class=LogisticRegression()\n",
    "svm_class=svm.LinearSVC()\n",
    "print(cross_val_score(rf_class,data,output,scoring='accuracy',cv=10))\n",
    "print(cross_val_score(lr_class,data,output,scoring='recall_macro',cv=4))"
   ]
  },
  {
   "cell_type": "code",
   "execution_count": 6,
   "metadata": {
    "ExecuteTime": {
     "end_time": "2019-03-08T11:55:05.532142Z",
     "start_time": "2019-03-08T11:55:03.584370Z"
    },
    "scrolled": true
   },
   "outputs": [
    {
     "name": "stdout",
     "output_type": "stream",
     "text": [
      "[0.8        0.93333333 1.         1.        ]\n",
      "[0.91111111 0.93333333 1.         1.        ]\n"
     ]
    },
    {
     "name": "stderr",
     "output_type": "stream",
     "text": [
      "E:\\ProgramData\\Anaconda3\\envs\\tensorflow35\\lib\\site-packages\\sklearn\\linear_model\\logistic.py:433: FutureWarning: Default solver will be changed to 'lbfgs' in 0.22. Specify a solver to silence this warning.\n",
      "  FutureWarning)\n",
      "E:\\ProgramData\\Anaconda3\\envs\\tensorflow35\\lib\\site-packages\\sklearn\\linear_model\\logistic.py:460: FutureWarning: Default multi_class will be changed to 'auto' in 0.22. Specify the multi_class option to silence this warning.\n",
      "  \"this warning.\", FutureWarning)\n",
      "E:\\ProgramData\\Anaconda3\\envs\\tensorflow35\\lib\\site-packages\\sklearn\\linear_model\\logistic.py:433: FutureWarning: Default solver will be changed to 'lbfgs' in 0.22. Specify a solver to silence this warning.\n",
      "  FutureWarning)\n",
      "E:\\ProgramData\\Anaconda3\\envs\\tensorflow35\\lib\\site-packages\\sklearn\\linear_model\\logistic.py:460: FutureWarning: Default multi_class will be changed to 'auto' in 0.22. Specify the multi_class option to silence this warning.\n",
      "  \"this warning.\", FutureWarning)\n",
      "E:\\ProgramData\\Anaconda3\\envs\\tensorflow35\\lib\\site-packages\\sklearn\\linear_model\\logistic.py:433: FutureWarning: Default solver will be changed to 'lbfgs' in 0.22. Specify a solver to silence this warning.\n",
      "  FutureWarning)\n",
      "E:\\ProgramData\\Anaconda3\\envs\\tensorflow35\\lib\\site-packages\\sklearn\\linear_model\\logistic.py:460: FutureWarning: Default multi_class will be changed to 'auto' in 0.22. Specify the multi_class option to silence this warning.\n",
      "  \"this warning.\", FutureWarning)\n",
      "E:\\ProgramData\\Anaconda3\\envs\\tensorflow35\\lib\\site-packages\\sklearn\\linear_model\\logistic.py:433: FutureWarning: Default solver will be changed to 'lbfgs' in 0.22. Specify a solver to silence this warning.\n",
      "  FutureWarning)\n",
      "E:\\ProgramData\\Anaconda3\\envs\\tensorflow35\\lib\\site-packages\\sklearn\\linear_model\\logistic.py:460: FutureWarning: Default multi_class will be changed to 'auto' in 0.22. Specify the multi_class option to silence this warning.\n",
      "  \"this warning.\", FutureWarning)\n"
     ]
    }
   ],
   "source": [
    "#使用cross_val_score\n",
    "from sklearn.model_selection import cross_val_score\n",
    "from sklearn.linear_model import LogisticRegression\n",
    "from sklearn import svm\n",
    "from sklearn.ensemble import RandomForestClassifier\n",
    "\n",
    "rf_class=RandomForestClassifier(n_estimators=10)\n",
    "log_class=LogisticRegression()\n",
    "svm_class=svm.LinearSVC()\n",
    "\n",
    "print(cross_val_score(rf_class,wine_data.data,wine_data.target,scoring='accuracy',cv=4))\n",
    "print(cross_val_score(log_class,wine_data.data,wine_data.target,scoring='f1_micro',cv=4))"
   ]
  },
  {
   "cell_type": "markdown",
   "metadata": {},
   "source": [
    "## 正则化"
   ]
  },
  {
   "cell_type": "code",
   "execution_count": 49,
   "metadata": {
    "ExecuteTime": {
     "end_time": "2019-03-08T14:32:41.579194Z",
     "start_time": "2019-03-08T14:32:39.729621Z"
    }
   },
   "outputs": [
    {
     "name": "stdout",
     "output_type": "stream",
     "text": [
      "          x         y       x_2       x_3       x_4       x_5           x_6  \\\n",
      "0  0.000000 -0.216289  0.000000  0.000000  0.000000  0.000000  0.000000e+00   \n",
      "1  0.097738 -0.109635  0.009553  0.000934  0.000091  0.000009  8.717508e-07   \n",
      "2  0.195477  0.603904  0.038211  0.007469  0.001460  0.000285  5.579205e-05   \n",
      "3  0.293215  0.148634  0.085975  0.025209  0.007392  0.002167  6.355064e-04   \n",
      "4  0.390954  0.633597  0.152845  0.059755  0.023362  0.009133  3.570691e-03   \n",
      "\n",
      "            x_7           x_8           x_9          x_10          x_11  \\\n",
      "0  0.000000e+00  0.000000e+00  0.000000e+00  0.000000e+00  0.000000e+00   \n",
      "1  8.520356e-08  8.327663e-09  8.139328e-10  7.955252e-11  7.775339e-12   \n",
      "2  1.090606e-05  2.131882e-06  4.167336e-07  8.146178e-08  1.592389e-08   \n",
      "3  1.863402e-04  5.463780e-05  1.602064e-05  4.697497e-06  1.377378e-06   \n",
      "4  1.395975e-03  5.457617e-04  2.133676e-04  8.341686e-05  3.261214e-05   \n",
      "\n",
      "           x_12          x_13          x_14          x_15  \n",
      "0  0.000000e+00  0.000000e+00  0.000000e+00  0.000000e+00  \n",
      "1  7.599495e-13  7.427628e-14  7.259647e-15  7.095466e-16  \n",
      "2  3.112753e-09  6.084713e-10  1.189421e-10  2.325042e-11  \n",
      "3  4.038683e-07  1.184204e-07  3.472267e-08  1.018122e-08  \n",
      "4  1.274984e-05  4.984597e-06  1.948747e-06  7.618699e-07  \n",
      "              rss intercept  x_1  x_2  x_3  x_4  x_5  x_6  x_7  x_8  x_9 x_10  \\\n",
      "model_row_1   NaN       NaN  NaN  NaN  NaN  NaN  NaN  NaN  NaN  NaN  NaN  NaN   \n",
      "model_row_2   NaN       NaN  NaN  NaN  NaN  NaN  NaN  NaN  NaN  NaN  NaN  NaN   \n",
      "model_row_3   NaN       NaN  NaN  NaN  NaN  NaN  NaN  NaN  NaN  NaN  NaN  NaN   \n",
      "model_row_4   NaN       NaN  NaN  NaN  NaN  NaN  NaN  NaN  NaN  NaN  NaN  NaN   \n",
      "model_row_5   NaN       NaN  NaN  NaN  NaN  NaN  NaN  NaN  NaN  NaN  NaN  NaN   \n",
      "model_row_6   NaN       NaN  NaN  NaN  NaN  NaN  NaN  NaN  NaN  NaN  NaN  NaN   \n",
      "model_row_7   NaN       NaN  NaN  NaN  NaN  NaN  NaN  NaN  NaN  NaN  NaN  NaN   \n",
      "model_row_8   NaN       NaN  NaN  NaN  NaN  NaN  NaN  NaN  NaN  NaN  NaN  NaN   \n",
      "model_row_9   NaN       NaN  NaN  NaN  NaN  NaN  NaN  NaN  NaN  NaN  NaN  NaN   \n",
      "model_row_10  NaN       NaN  NaN  NaN  NaN  NaN  NaN  NaN  NaN  NaN  NaN  NaN   \n",
      "model_row_11  NaN       NaN  NaN  NaN  NaN  NaN  NaN  NaN  NaN  NaN  NaN  NaN   \n",
      "model_row_12  NaN       NaN  NaN  NaN  NaN  NaN  NaN  NaN  NaN  NaN  NaN  NaN   \n",
      "model_row_13  NaN       NaN  NaN  NaN  NaN  NaN  NaN  NaN  NaN  NaN  NaN  NaN   \n",
      "model_row_14  NaN       NaN  NaN  NaN  NaN  NaN  NaN  NaN  NaN  NaN  NaN  NaN   \n",
      "model_row_15  NaN       NaN  NaN  NaN  NaN  NaN  NaN  NaN  NaN  NaN  NaN  NaN   \n",
      "\n",
      "             x_11 x_12 x_13 x_14 x_15  \n",
      "model_row_1   NaN  NaN  NaN  NaN  NaN  \n",
      "model_row_2   NaN  NaN  NaN  NaN  NaN  \n",
      "model_row_3   NaN  NaN  NaN  NaN  NaN  \n",
      "model_row_4   NaN  NaN  NaN  NaN  NaN  \n",
      "model_row_5   NaN  NaN  NaN  NaN  NaN  \n",
      "model_row_6   NaN  NaN  NaN  NaN  NaN  \n",
      "model_row_7   NaN  NaN  NaN  NaN  NaN  \n",
      "model_row_8   NaN  NaN  NaN  NaN  NaN  \n",
      "model_row_9   NaN  NaN  NaN  NaN  NaN  \n",
      "model_row_10  NaN  NaN  NaN  NaN  NaN  \n",
      "model_row_11  NaN  NaN  NaN  NaN  NaN  \n",
      "model_row_12  NaN  NaN  NaN  NaN  NaN  \n",
      "model_row_13  NaN  NaN  NaN  NaN  NaN  \n",
      "model_row_14  NaN  NaN  NaN  NaN  NaN  \n",
      "model_row_15  NaN  NaN  NaN  NaN  NaN  \n",
      "                  rss  intercept       x_1         x_2        x_3        x_4  \\\n",
      "model_row_1   30.0322   0.573062 -0.137655         NaN        NaN        NaN   \n",
      "model_row_2    22.371     1.2597 -0.715075   0.0798352        NaN        NaN   \n",
      "model_row_3   5.08573  0.0872346   1.29807   -0.620709  0.0645724        NaN   \n",
      "model_row_4   3.10632  -0.339264   2.55335      -1.414   0.235943  -0.011847   \n",
      "model_row_5   2.30888 -0.0593148   1.27216   -0.140635   -0.23817  0.0621386   \n",
      "model_row_6   2.30815 -0.0678109   1.32907   -0.222489  -0.192166  0.0501287   \n",
      "model_row_7    2.1973  -0.170251    2.2944    -2.12484    1.30327   -0.52487   \n",
      "model_row_8   2.19532  -0.157148   2.12519    -1.68543   0.843804  -0.282868   \n",
      "model_row_9   2.15484  -0.212631   3.09072    -4.89393     5.1486   -3.24444   \n",
      "model_row_10  2.15409  -0.219594   3.25242    -5.56585    6.27413   -4.22203   \n",
      "model_row_11  2.14178  -0.244988   4.03595    -9.56144     14.451     -12.96   \n",
      "model_row_12  2.12236  -0.273278   5.19711    -16.7129    32.0148   -35.5848   \n",
      "model_row_13  2.11705  -0.260263   4.48863    -11.5166    16.9289   -12.5495   \n",
      "model_row_14  2.10292  -0.242311    3.1519  0.00985459   -22.1094     57.116   \n",
      "model_row_15  2.09968  -0.248261   3.79915    -6.57149    3.84702     3.2367   \n",
      "\n",
      "                     x_5          x_6          x_7          x_8          x_9  \\\n",
      "model_row_1          NaN          NaN          NaN          NaN          NaN   \n",
      "model_row_2          NaN          NaN          NaN          NaN          NaN   \n",
      "model_row_3          NaN          NaN          NaN          NaN          NaN   \n",
      "model_row_4          NaN          NaN          NaN          NaN          NaN   \n",
      "model_row_5  -0.00409176          NaN          NaN          NaN          NaN   \n",
      "model_row_6   -0.0026268 -6.75159e-05          NaN          NaN          NaN   \n",
      "model_row_7     0.112468   -0.0115841  0.000454943          NaN          NaN   \n",
      "model_row_8    0.0422863 -0.000214999 -0.000509085  3.33221e-05          NaN   \n",
      "model_row_9      1.20213    -0.269243    0.0360547  -0.00265617  8.26345e-05   \n",
      "model_row_10     1.69596    -0.422323    0.0655815  -0.00611063  0.000306973   \n",
      "model_row_11     7.20612     -2.60509     0.623794   -0.0981548   0.00975637   \n",
      "model_row_12      24.582      -11.126      3.38856    -0.698807    0.0961832   \n",
      "model_row_13     3.45292      1.39734     -1.60898      0.67086    -0.162161   \n",
      "model_row_14    -71.6557      54.1982     -26.9247      9.15949     -2.17258   \n",
      "model_row_15    -3.88299     -1.72294        4.833     -3.61759      1.52484   \n",
      "\n",
      "                     x_10         x_11         x_12         x_13         x_14  \\\n",
      "model_row_1           NaN          NaN          NaN          NaN          NaN   \n",
      "model_row_2           NaN          NaN          NaN          NaN          NaN   \n",
      "model_row_3           NaN          NaN          NaN          NaN          NaN   \n",
      "model_row_4           NaN          NaN          NaN          NaN          NaN   \n",
      "model_row_5           NaN          NaN          NaN          NaN          NaN   \n",
      "model_row_6           NaN          NaN          NaN          NaN          NaN   \n",
      "model_row_7           NaN          NaN          NaN          NaN          NaN   \n",
      "model_row_8           NaN          NaN          NaN          NaN          NaN   \n",
      "model_row_9           NaN          NaN          NaN          NaN          NaN   \n",
      "model_row_10  -6.2035e-06          NaN          NaN          NaN          NaN   \n",
      "model_row_11 -0.000555492  1.38083e-05          NaN          NaN          NaN   \n",
      "model_row_12    -0.008458  0.000429545 -9.58009e-06          NaN          NaN   \n",
      "model_row_13    0.0244991  -0.00228643  0.000120904 -2.77553e-06          NaN   \n",
      "model_row_14     0.359285   -0.0406323    0.0029967 -0.000129902  2.51097e-06   \n",
      "model_row_15    -0.412834    0.0746648   -0.0090066  0.000697418 -3.14102e-05   \n",
      "\n",
      "                     x_15  \n",
      "model_row_1           NaN  \n",
      "model_row_2           NaN  \n",
      "model_row_3           NaN  \n",
      "model_row_4           NaN  \n",
      "model_row_5           NaN  \n",
      "model_row_6           NaN  \n",
      "model_row_7           NaN  \n",
      "model_row_8           NaN  \n",
      "model_row_9           NaN  \n",
      "model_row_10          NaN  \n",
      "model_row_11          NaN  \n",
      "model_row_12          NaN  \n",
      "model_row_13          NaN  \n",
      "model_row_14          NaN  \n",
      "model_row_15  6.26244e-07  \n"
     ]
    },
    {
     "data": {
      "image/png": "[encoded data removed]",
      "text/plain": [
       "<Figure size 432x288 with 6 Axes>"
      ]
     },
     "metadata": {},
     "output_type": "display_data"
    }
   ],
   "source": [
    "import numpy as np\n",
    "import pandas as pd\n",
    "import matplotlib.pyplot as plt\n",
    "%matplotlib inline\n",
    "import random\n",
    "\n",
    "x=np.array([1.4*i*np.pi/180 for i in range(0,300,4)])\n",
    "y=np.sin(x)+np.random.normal(0,0.2,len(x))\n",
    "data=pd.DataFrame(np.column_stack([x,y]),columns=['x','y'])\n",
    "\n",
    "plt.plot(x,y,'.')\n",
    "\n",
    "for i in range(2,16):\n",
    "    column='x_%d'%i\n",
    "    data[column]=data['x']**i\n",
    "print(data.head(5))\n",
    "\n",
    "from sklearn.linear_model import LinearRegression\n",
    "def lin_gre(data,power,models_to_plot):\n",
    "    predictors=['x']\n",
    "    if power>=2:\n",
    "        predictors.extend(['x_%d'%i for i in range(2,power+1)])\n",
    "    lg=LinearRegression()\n",
    "    lg.fit(data[predictors],data['y'])\n",
    "    y_pre=lg.predict(data[predictors])\n",
    "    \n",
    "    if power in models_to_plot:\n",
    "        plt.subplot(models_to_plot[power])\n",
    "        plt.tight_layout\n",
    "        ##tight_layout会自动调整子图参数，使之填充整个图像区域。\n",
    "        ##这是个实验特性，可能在一些情况下不工作。它仅仅检查坐标轴标签、刻度标签以及标题的部分。\n",
    "        plt.plot(data['x'],y_pre)\n",
    "        plt.plot(data['x'],data['y'],'.')\n",
    "        plt.title('Plot for power:%d'%power)\n",
    "    \n",
    "    rss=sum((y_pre-data['y'])**2)\n",
    "    ret=[rss]\n",
    "    ret.append(lg.intercept_)\n",
    "    ret.extend(lg.coef_)\n",
    "    return ret\n",
    "\n",
    "col=['rss','intercept']+['x_%d'%i for i in range(1,16)]\n",
    "ind=['model_row_%d'%i for i in range(1,16)]\n",
    "coef_matrix=pd.DataFrame(index=ind,columns=col)\n",
    "print(coef_matrix)\n",
    "\n",
    "models_to_plot={1:231,3:232,6:233,8:234,12:235,15:236}\n",
    "\n",
    "for i in range(1,16):\n",
    "    coef_matrix.iloc[i-1,0:i+2]=lin_gre(data=data,power=i,models_to_plot=models_to_plot)\n",
    "print(coef_matrix)"
   ]
  }
 ],
 "metadata": {
  "kernelspec": {
   "display_name": "tensorflow35",
   "language": "python",
   "name": "tensorflow35"
  },
  "language_info": {
   "codemirror_mode": {
    "name": "ipython",
    "version": 3
   },
   "file_extension": ".py",
   "mimetype": "text/x-python",
   "name": "python",
   "nbconvert_exporter": "python",
   "pygments_lexer": "ipython3",
   "version": "3.5.4"
  },
  "latex_envs": {
   "LaTeX_envs_menu_present": true,
   "autoclose": false,
   "autocomplete": true,
   "bibliofile": "biblio.bib",
   "cite_by": "apalike",
   "current_citInitial": 1,
   "eqLabelWithNumbers": true,
   "eqNumInitial": 1,
   "hotkeys": {
    "equation": "Ctrl-E",
    "itemize": "Ctrl-I"
   },
   "labels_anchors": false,
   "latex_user_defs": false,
   "report_style_numbering": false,
   "user_envs_cfg": false
  },
  "toc": {
   "base_numbering": 1,
   "nav_menu": {},
   "number_sections": true,
   "sideBar": true,
   "skip_h1_title": false,
   "title_cell": "Table of Contents",
   "title_sidebar": "Contents",
   "toc_cell": false,
   "toc_position": {},
   "toc_section_display": true,
   "toc_window_display": false
  },
  "varInspector": {
   "cols": {
    "lenName": 16,
    "lenType": 16,
    "lenVar": 40
   },
   "kernels_config": {
    "python": {
     "delete_cmd_postfix": "",
     "delete_cmd_prefix": "del ",
     "library": "var_list.py",
     "varRefreshCmd": "print(var_dic_list())"
    },
    "r": {
     "delete_cmd_postfix": ") ",
     "delete_cmd_prefix": "rm(",
     "library": "var_list.r",
     "varRefreshCmd": "cat(var_dic_list()) "
    }
   },
   "types_to_exclude": [
    "module",
    "function",
    "builtin_function_or_method",
    "instance",
    "_Feature"
   ],
   "window_display": false
  }
 },
 "nbformat": 4,
 "nbformat_minor": 2
}
